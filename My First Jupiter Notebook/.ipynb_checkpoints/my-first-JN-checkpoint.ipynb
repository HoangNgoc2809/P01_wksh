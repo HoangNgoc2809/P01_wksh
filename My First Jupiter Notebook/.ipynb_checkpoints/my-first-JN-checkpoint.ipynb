{
 "cells": [
  {
   "cell_type": "markdown",
   "id": "fbcf33ff-fcd3-45b2-a2b8-2120e979c458",
   "metadata": {},
   "source": [
    "# Jupyter Notebook Markdown "
   ]
  },
  {
   "cell_type": "markdown",
   "id": "dd3d82d1-366c-4898-b5a0-27fd877924fd",
   "metadata": {},
   "source": [
    "## Python code from part 3"
   ]
  },
  {
   "cell_type": "markdown",
   "id": "036c51bd-9a02-4956-a0d7-70c4bb43c7a0",
   "metadata": {},
   "source": [
    "### Print without using loop"
   ]
  },
  {
   "cell_type": "code",
   "execution_count": 5,
   "id": "481e96ed-7239-4830-9d11-52ff13a73aa9",
   "metadata": {},
   "outputs": [
    {
     "name": "stdout",
     "output_type": "stream",
     "text": [
      "1 2 3 4 5 6 7 8 9 10\n"
     ]
    }
   ],
   "source": [
    "print (1,2,3,4,5,6,7,8,9,10)"
   ]
  },
  {
   "cell_type": "markdown",
   "id": "2302c796-4f89-410f-963e-42c20af6a58c",
   "metadata": {},
   "source": [
    "### Print using for loop"
   ]
  },
  {
   "cell_type": "code",
   "execution_count": 8,
   "id": "bbb88fd1-ed9a-46fa-af01-debde7a9b258",
   "metadata": {},
   "outputs": [
    {
     "name": "stdout",
     "output_type": "stream",
     "text": [
      "1\n",
      "2\n",
      "3\n",
      "4\n",
      "5\n",
      "6\n",
      "7\n",
      "8\n",
      "9\n",
      "10\n"
     ]
    }
   ],
   "source": [
    "for i in range(1,11):\n",
    "    print (i)"
   ]
  },
  {
   "cell_type": "code",
   "execution_count": null,
   "id": "48f59dd2-7d8e-4fc8-8520-c958c44815bd",
   "metadata": {},
   "outputs": [],
   "source": []
  }
 ],
 "metadata": {
  "kernelspec": {
   "display_name": "Python 3 (ipykernel)",
   "language": "python",
   "name": "python3"
  },
  "language_info": {
   "codemirror_mode": {
    "name": "ipython",
    "version": 3
   },
   "file_extension": ".py",
   "mimetype": "text/x-python",
   "name": "python",
   "nbconvert_exporter": "python",
   "pygments_lexer": "ipython3",
   "version": "3.10.14"
  }
 },
 "nbformat": 4,
 "nbformat_minor": 5
}
